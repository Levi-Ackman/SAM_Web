{
  "cells": [
    {
      "cell_type": "code",
      "execution_count": null,
      "metadata": {
        "colab": {
          "base_uri": "https://localhost:8080/"
        },
        "id": "P38xdyq2KEjf",
        "outputId": "a2c2d8bb-96a9-41fa-be40-abf770d84737"
      },
      "outputs": [],
      "source": [
        "!git clone https://github.com/Levi-Ackman/Sam_Web.git"
      ]
    },
    {
      "cell_type": "code",
      "execution_count": null,
      "metadata": {
        "colab": {
          "base_uri": "https://localhost:8080/"
        },
        "id": "3ukMTMQ2KQSw",
        "outputId": "e946d336-92d2-4b58-a516-0cffb149b5e9"
      },
      "outputs": [],
      "source": [
        "%mkdir checkpoint\n",
        "%cd checkpoint\n",
        "!wget https://dl.fbaipublicfiles.com/segment_anything/sam_vit_h_4b8939.pth"
      ]
    },
    {
      "cell_type": "code",
      "execution_count": null,
      "metadata": {
        "colab": {
          "base_uri": "https://localhost:8080/"
        },
        "id": "xqFcVwwnKSqT",
        "outputId": "94e19be0-a781-420f-921d-c420a6efd39a"
      },
      "outputs": [],
      "source": [
        "%cd ..\n",
        "!pip install -r requirements.txt"
      ]
    },
    {
      "cell_type": "code",
      "execution_count": null,
      "metadata": {
        "colab": {
          "base_uri": "https://localhost:8080/"
        },
        "id": "JePl-YPpLc0P",
        "outputId": "c078cbc8-a760-4f61-9abf-8a30a6349290"
      },
      "outputs": [],
      "source": [
        "%cd sam_interactive\n",
        "!python .py"
      ]
    },
    {
      "cell_type": "code",
      "execution_count": null,
      "metadata": {},
      "outputs": [],
      "source": [
        "%cd ..\n",
        "%cd sam_clip"
      ]
    }
  ],
  "metadata": {
    "accelerator": "GPU",
    "colab": {
      "provenance": []
    },
    "gpuClass": "standard",
    "kernelspec": {
      "display_name": "Python 3",
      "name": "python3"
    },
    "language_info": {
      "name": "python"
    }
  },
  "nbformat": 4,
  "nbformat_minor": 0
}
