{
  "cells": [
    {
      "cell_type": "code",
      "execution_count": null,
      "metadata": {
        "colab": {
          "base_uri": "https://localhost:8080/"
        },
        "id": "P38xdyq2KEjf",
        "outputId": "a2c2d8bb-96a9-41fa-be40-abf770d84737"
      },
      "outputs": [],
      "source": [
        "!git clone https://github.com/lujiazho/SegDrawer.git"
      ]
    },
    {
      "cell_type": "code",
      "execution_count": null,
      "metadata": {
        "colab": {
          "base_uri": "https://localhost:8080/"
        },
        "id": "3ukMTMQ2KQSw",
        "outputId": "e946d336-92d2-4b58-a516-0cffb149b5e9"
      },
      "outputs": [],
      "source": [
        "%cd SegDrawer\n",
        "!wget https://dl.fbaipublicfiles.com/segment_anything/sam_vit_l_0b3195.pth"
      ]
    },
    {
      "cell_type": "code",
      "execution_count": null,
      "metadata": {
        "colab": {
          "base_uri": "https://localhost:8080/"
        },
        "id": "xqFcVwwnKSqT",
        "outputId": "94e19be0-a781-420f-921d-c420a6efd39a"
      },
      "outputs": [],
      "source": [
        "!pip install fastapi python-multipart uvicorn pyngrok"
      ]
    },
    {
      "cell_type": "code",
      "execution_count": null,
      "metadata": {
        "colab": {
          "base_uri": "https://localhost:8080/"
        },
        "id": "gpfPrSzNMAjC",
        "outputId": "71af8462-42db-4b73-e2ac-21fb761f4338"
      },
      "outputs": [],
      "source": [
        "!ngrok authtoken {your_token}"
      ]
    },
    {
      "cell_type": "code",
      "execution_count": null,
      "metadata": {
        "colab": {
          "base_uri": "https://localhost:8080/"
        },
        "id": "H_uvT6CKKZLy",
        "outputId": "f9a523ea-8b43-4705-ecd5-d807402657ce"
      },
      "outputs": [],
      "source": [
        "from pyngrok import ngrok\n",
        "\n",
        "ngrok_tunnel = ngrok.connect(8000)\n",
        "print('Public URL:', ngrok_tunnel.public_url)"
      ]
    },
    {
      "cell_type": "code",
      "execution_count": null,
      "metadata": {
        "colab": {
          "base_uri": "https://localhost:8080/"
        },
        "id": "JePl-YPpLc0P",
        "outputId": "c078cbc8-a760-4f61-9abf-8a30a6349290"
      },
      "outputs": [],
      "source": [
        "!python server.py"
      ]
    }
  ],
  "metadata": {
    "accelerator": "GPU",
    "colab": {
      "provenance": []
    },
    "gpuClass": "standard",
    "kernelspec": {
      "display_name": "Python 3",
      "name": "python3"
    },
    "language_info": {
      "name": "python"
    }
  },
  "nbformat": 4,
  "nbformat_minor": 0
}
